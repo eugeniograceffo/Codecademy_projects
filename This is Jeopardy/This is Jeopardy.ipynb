{
 "cells": [
  {
   "cell_type": "markdown",
   "metadata": {},
   "source": [
    "# This is Jeopardy!"
   ]
  },
  {
   "cell_type": "markdown",
   "metadata": {},
   "source": [
    "#### Overview"
   ]
  },
  {
   "cell_type": "markdown",
   "metadata": {},
   "source": [
    "This project is slightly different than others you have encountered thus far. Instead of a step-by-step tutorial, this project contains a series of open-ended requirements which describe the project you'll be building. There are many possible ways to correctly fulfill all of these requirements, and you should expect to use the internet, Codecademy, and/or other resources when you encounter a problem that you cannot easily solve."
   ]
  },
  {
   "cell_type": "markdown",
   "metadata": {},
   "source": [
    "#### Project Goals"
   ]
  },
  {
   "cell_type": "markdown",
   "metadata": {},
   "source": [
    "You will work to write several functions that investigate a dataset of _Jeopardy!_ questions and answers. Filter the dataset for topics that you're interested in, compute the average difficulty of those questions, and train to become the next Jeopardy champion!"
   ]
  },
  {
   "cell_type": "markdown",
   "metadata": {},
   "source": [
    "## Prerequisites"
   ]
  },
  {
   "cell_type": "markdown",
   "metadata": {},
   "source": [
    "In order to complete this project, you should have completed the Pandas lessons in the <a href=\"https://www.codecademy.com/learn/paths/analyze-data-with-python\">Analyze Data with Python Skill Path</a>. You can also find those lessons in the <a href=\"https://www.codecademy.com/learn/data-processing-pandas\">Data Analysis with Pandas course</a> or the <a href=\"https://www.codecademy.com/learn/paths/data-science/\">Data Scientist Career Path</a>.\n",
    "\n",
    "Finally, the <a href=\"https://www.codecademy.com/learn/practical-data-cleaning\">Practical Data Cleaning</a> course may also be helpful."
   ]
  },
  {
   "cell_type": "markdown",
   "metadata": {},
   "source": [
    "## Project Requirements"
   ]
  },
  {
   "cell_type": "markdown",
   "metadata": {},
   "source": [
    "1. We've provided a csv file containing data about the game show _Jeopardy!_ in a file named `jeopardy.csv`. Load the data into a DataFrame and investigate its contents. Try to print out specific columns.\n",
    "\n",
    "   Note that in order to make this project as \"real-world\" as possible, we haven't modified the data at all - we're giving it to you exactly how we found it. As a result, this data isn't as \"clean\" as the datasets you normally find on Codecademy. More specifically, there's something odd about the column names. After you figure out the problem with the column names, you may want to rename them to make your life easier for the rest of the project.\n",
    "   \n",
    "   In order to display the full contents of a column, we've added this line of code for you:\n",
    "   \n",
    "   ```py\n",
    "   pd.set_option('display.max_colwidth', None)\n",
    "   ```"
   ]
  },
  {
   "cell_type": "code",
   "execution_count": 15,
   "metadata": {},
   "outputs": [
    {
     "name": "stdout",
     "output_type": "stream",
     "text": [
      "Index(['Show Number', ' Air Date', ' Round', ' Category', ' Value',\n",
      "       ' Question', ' Answer'],\n",
      "      dtype='object')\n",
      "Index(['show_number', 'air_date', 'round', 'category', 'value', 'question',\n",
      "       'answer'],\n",
      "      dtype='object')\n",
      "   show_number    air_date      round                         category value  \\\n",
      "0         4680  2004-12-31  Jeopardy!                          HISTORY  $200   \n",
      "1         4680  2004-12-31  Jeopardy!  ESPN's TOP 10 ALL-TIME ATHLETES  $200   \n",
      "2         4680  2004-12-31  Jeopardy!      EVERYBODY TALKS ABOUT IT...  $200   \n",
      "3         4680  2004-12-31  Jeopardy!                 THE COMPANY LINE  $200   \n",
      "4         4680  2004-12-31  Jeopardy!              EPITAPHS & TRIBUTES  $200   \n",
      "\n",
      "                                                                                                      question  \\\n",
      "0             For the last 8 years of his life, Galileo was under house arrest for espousing this man's theory   \n",
      "1  No. 2: 1912 Olympian; football star at Carlisle Indian School; 6 MLB seasons with the Reds, Giants & Braves   \n",
      "2                     The city of Yuma in this state has a record average of 4,055 hours of sunshine each year   \n",
      "3                         In 1963, live on \"The Art Linkletter Show\", this company served its billionth burger   \n",
      "4     Signer of the Dec. of Indep., framer of the Constitution of Mass., second President of the United States   \n",
      "\n",
      "       answer  \n",
      "0  Copernicus  \n",
      "1  Jim Thorpe  \n",
      "2     Arizona  \n",
      "3  McDonald's  \n",
      "4  John Adams  \n"
     ]
    }
   ],
   "source": [
    "import pandas as pd\n",
    "pd.set_option('display.max_colwidth', None)\n",
    "df = pd.read_csv(\"jeopardy.csv\")\n",
    "print(df.columns)\n",
    "df.rename(columns={\n",
    "    \"Show Number\":\"show_number\",\n",
    "    \" Air Date\":\"air_date\",\n",
    "    \" Round\": \"round\",\n",
    "    \" Category\": \"category\",\n",
    "    \" Value\":\"value\",\n",
    "    \" Question\":\"question\",\n",
    "    \" Answer\" : \"answer\"},\n",
    "         inplace=True)\n",
    "\n",
    "print(df.columns)\n",
    "print(df.head())"
   ]
  },
  {
   "cell_type": "markdown",
   "metadata": {},
   "source": [
    "2. Write a function that filters the dataset for questions that contains all of the words in a list of words. For example, when the list `[\"King\", \"England\"]` was passed to our function, the function returned a DataFrame of 49 rows. Every row had the strings `\"King\"` and `\"England\"` somewhere in its `\" Question\"`.\n",
    "\n",
    "   Test your function by printing out the column containing the question of each row of the dataset."
   ]
  },
  {
   "cell_type": "code",
   "execution_count": 21,
   "metadata": {},
   "outputs": [
    {
     "data": {
      "text/html": [
       "<div>\n",
       "<style scoped>\n",
       "    .dataframe tbody tr th:only-of-type {\n",
       "        vertical-align: middle;\n",
       "    }\n",
       "\n",
       "    .dataframe tbody tr th {\n",
       "        vertical-align: top;\n",
       "    }\n",
       "\n",
       "    .dataframe thead th {\n",
       "        text-align: right;\n",
       "    }\n",
       "</style>\n",
       "<table border=\"1\" class=\"dataframe\">\n",
       "  <thead>\n",
       "    <tr style=\"text-align: right;\">\n",
       "      <th></th>\n",
       "      <th>show_number</th>\n",
       "      <th>air_date</th>\n",
       "      <th>round</th>\n",
       "      <th>category</th>\n",
       "      <th>value</th>\n",
       "      <th>question</th>\n",
       "      <th>answer</th>\n",
       "    </tr>\n",
       "  </thead>\n",
       "  <tbody>\n",
       "    <tr>\n",
       "      <th>4953</th>\n",
       "      <td>3003</td>\n",
       "      <td>1997-09-24</td>\n",
       "      <td>Double Jeopardy!</td>\n",
       "      <td>\"PH\"UN WORDS</td>\n",
       "      <td>$200</td>\n",
       "      <td>both england's king george v &amp; fdr put their stamp of approval on this \"king of hobbies\"</td>\n",
       "      <td>Philately (stamp collecting)</td>\n",
       "    </tr>\n",
       "    <tr>\n",
       "      <th>6337</th>\n",
       "      <td>3517</td>\n",
       "      <td>1999-12-14</td>\n",
       "      <td>Double Jeopardy!</td>\n",
       "      <td>Y1K</td>\n",
       "      <td>$800</td>\n",
       "      <td>in retaliation for viking raids, this \"unready\" king of england attacks norse areas of the isle of man</td>\n",
       "      <td>Ethelred</td>\n",
       "    </tr>\n",
       "    <tr>\n",
       "      <th>9191</th>\n",
       "      <td>3907</td>\n",
       "      <td>2001-09-04</td>\n",
       "      <td>Double Jeopardy!</td>\n",
       "      <td>WON THE BATTLE</td>\n",
       "      <td>$800</td>\n",
       "      <td>this king of england beat the odds to trounce the french in the 1415 battle of agincourt</td>\n",
       "      <td>Henry V</td>\n",
       "    </tr>\n",
       "    <tr>\n",
       "      <th>11710</th>\n",
       "      <td>2903</td>\n",
       "      <td>1997-03-26</td>\n",
       "      <td>Double Jeopardy!</td>\n",
       "      <td>BRITISH MONARCHS</td>\n",
       "      <td>$600</td>\n",
       "      <td>this scotsman, the first stuart king of england, was called \"the wisest fool in christendom\"</td>\n",
       "      <td>James I</td>\n",
       "    </tr>\n",
       "    <tr>\n",
       "      <th>13454</th>\n",
       "      <td>4726</td>\n",
       "      <td>2005-03-07</td>\n",
       "      <td>Jeopardy!</td>\n",
       "      <td>A NUMBER FROM 1 TO 10</td>\n",
       "      <td>$1000</td>\n",
       "      <td>it's the number that followed the last king of england named william</td>\n",
       "      <td>4</td>\n",
       "    </tr>\n",
       "    <tr>\n",
       "      <th>...</th>\n",
       "      <td>...</td>\n",
       "      <td>...</td>\n",
       "      <td>...</td>\n",
       "      <td>...</td>\n",
       "      <td>...</td>\n",
       "      <td>...</td>\n",
       "      <td>...</td>\n",
       "    </tr>\n",
       "    <tr>\n",
       "      <th>208295</th>\n",
       "      <td>4621</td>\n",
       "      <td>2004-10-11</td>\n",
       "      <td>Jeopardy!</td>\n",
       "      <td>THE VIKINGS</td>\n",
       "      <td>$600</td>\n",
       "      <td>in 1066 this great-great grandson of rollo made what some call the last viking invasion of england</td>\n",
       "      <td>William the Conqueror</td>\n",
       "    </tr>\n",
       "    <tr>\n",
       "      <th>208742</th>\n",
       "      <td>4863</td>\n",
       "      <td>2005-11-02</td>\n",
       "      <td>Double Jeopardy!</td>\n",
       "      <td>BEFORE &amp; AFTER</td>\n",
       "      <td>$3,000</td>\n",
       "      <td>dutch-born king who ruled england jointly with mary ii &amp; is a tasty new zealand fish</td>\n",
       "      <td>William of Orange roughy</td>\n",
       "    </tr>\n",
       "    <tr>\n",
       "      <th>213870</th>\n",
       "      <td>5856</td>\n",
       "      <td>2010-02-15</td>\n",
       "      <td>Double Jeopardy!</td>\n",
       "      <td>URANUS</td>\n",
       "      <td>$1600</td>\n",
       "      <td>in 1781 william herschel discovered uranus &amp; initially named it after this king of england</td>\n",
       "      <td>George III</td>\n",
       "    </tr>\n",
       "    <tr>\n",
       "      <th>216021</th>\n",
       "      <td>1881</td>\n",
       "      <td>1992-11-09</td>\n",
       "      <td>Double Jeopardy!</td>\n",
       "      <td>HISTORIC NAMES</td>\n",
       "      <td>$1000</td>\n",
       "      <td>his nickname was \"bertie\", but he used this name &amp; number when he became king of england in 1901</td>\n",
       "      <td>Edward VII</td>\n",
       "    </tr>\n",
       "    <tr>\n",
       "      <th>216789</th>\n",
       "      <td>5070</td>\n",
       "      <td>2006-09-29</td>\n",
       "      <td>Double Jeopardy!</td>\n",
       "      <td>ANCIENT HISTORY</td>\n",
       "      <td>$1200</td>\n",
       "      <td>this kingdom of england grew from 2 settlements, one founded around 495 by cerdic &amp; his son cynric</td>\n",
       "      <td>Wessex</td>\n",
       "    </tr>\n",
       "  </tbody>\n",
       "</table>\n",
       "<p>152 rows × 7 columns</p>\n",
       "</div>"
      ],
      "text/plain": [
       "        show_number    air_date             round               category  \\\n",
       "4953           3003  1997-09-24  Double Jeopardy!           \"PH\"UN WORDS   \n",
       "6337           3517  1999-12-14  Double Jeopardy!                    Y1K   \n",
       "9191           3907  2001-09-04  Double Jeopardy!         WON THE BATTLE   \n",
       "11710          2903  1997-03-26  Double Jeopardy!       BRITISH MONARCHS   \n",
       "13454          4726  2005-03-07         Jeopardy!  A NUMBER FROM 1 TO 10   \n",
       "...             ...         ...               ...                    ...   \n",
       "208295         4621  2004-10-11         Jeopardy!            THE VIKINGS   \n",
       "208742         4863  2005-11-02  Double Jeopardy!         BEFORE & AFTER   \n",
       "213870         5856  2010-02-15  Double Jeopardy!                 URANUS   \n",
       "216021         1881  1992-11-09  Double Jeopardy!         HISTORIC NAMES   \n",
       "216789         5070  2006-09-29  Double Jeopardy!        ANCIENT HISTORY   \n",
       "\n",
       "         value  \\\n",
       "4953      $200   \n",
       "6337      $800   \n",
       "9191      $800   \n",
       "11710     $600   \n",
       "13454    $1000   \n",
       "...        ...   \n",
       "208295    $600   \n",
       "208742  $3,000   \n",
       "213870   $1600   \n",
       "216021   $1000   \n",
       "216789   $1200   \n",
       "\n",
       "                                                                                                      question  \\\n",
       "4953                  both england's king george v & fdr put their stamp of approval on this \"king of hobbies\"   \n",
       "6337    in retaliation for viking raids, this \"unready\" king of england attacks norse areas of the isle of man   \n",
       "9191                  this king of england beat the odds to trounce the french in the 1415 battle of agincourt   \n",
       "11710             this scotsman, the first stuart king of england, was called \"the wisest fool in christendom\"   \n",
       "13454                                     it's the number that followed the last king of england named william   \n",
       "...                                                                                                        ...   \n",
       "208295      in 1066 this great-great grandson of rollo made what some call the last viking invasion of england   \n",
       "208742                    dutch-born king who ruled england jointly with mary ii & is a tasty new zealand fish   \n",
       "213870              in 1781 william herschel discovered uranus & initially named it after this king of england   \n",
       "216021        his nickname was \"bertie\", but he used this name & number when he became king of england in 1901   \n",
       "216789      this kingdom of england grew from 2 settlements, one founded around 495 by cerdic & his son cynric   \n",
       "\n",
       "                              answer  \n",
       "4953    Philately (stamp collecting)  \n",
       "6337                        Ethelred  \n",
       "9191                         Henry V  \n",
       "11710                        James I  \n",
       "13454                              4  \n",
       "...                              ...  \n",
       "208295         William the Conqueror  \n",
       "208742      William of Orange roughy  \n",
       "213870                    George III  \n",
       "216021                    Edward VII  \n",
       "216789                        Wessex  \n",
       "\n",
       "[152 rows x 7 columns]"
      ]
     },
     "execution_count": 21,
     "metadata": {},
     "output_type": "execute_result"
    }
   ],
   "source": [
    "def filter_word(dataframe, list_words):\n",
    "   # Convert the \"Question\" column to lowercase for case-insensitive matching\n",
    "    dataframe['question'] = dataframe.question.str.lower()\n",
    "\n",
    "    # Filter rows based on the presence of all words in the word_list\n",
    "    filtered_dataframe = dataframe\n",
    "    for word in list_words:\n",
    "        filtered_dataframe = filtered_dataframe[filtered_dataframe.question.str.contains(word.lower())]\n",
    "\n",
    "    return filtered_dataframe\n",
    "\n",
    "filter_word(df, [\"King\", \"England\"])"
   ]
  },
  {
   "cell_type": "markdown",
   "metadata": {},
   "source": [
    "3. Test your original function with a few different sets of words to try to find some ways your function breaks. Edit your function so it is more robust.\n",
    "\n",
    "   For example, think about capitalization. We probably want to find questions that contain the word `\"King\"` or `\"king\"`.\n",
    "   \n",
    "   You may also want to check to make sure you don't find rows that contain substrings of your given words. For example, our function found a question that didn't contain the word `\"king\"`, however it did contain the word `\"viking\"` &mdash; it found the `\"king\"` inside `\"viking\"`. Note that this also comes with some drawbacks &mdash; you would no longer find questions that contained words like `\"England's\"`."
   ]
  },
  {
   "cell_type": "code",
   "execution_count": null,
   "metadata": {},
   "outputs": [],
   "source": [
    "       # Use '\\b' for word boundaries to ensure whole-word matching\n",
    "        filtered_dataframe = filtered_dataframe[filtered_dataframe['Question'].str.contains(r'\\b{}\\b'.format(word.lower()))]"
   ]
  },
  {
   "cell_type": "markdown",
   "metadata": {},
   "source": [
    "4. We may want to eventually compute aggregate statistics, like `.mean()` on the `\" Value\"` column. But right now, the values in that column are strings. Convert the`\" Value\"` column to floats. If you'd like to, you can create a new column with float values.\n",
    "\n",
    "   While most of the values in the `\" Value\"` column represent a dollar amount as a string, note that some do not &mdash; these values will need to be handled differently!\n",
    "\n",
    "   Now that you can filter the dataset of question, use your new column that contains the float values of each question to find the \"difficulty\" of certain topics. For example, what is the average value of questions that contain the word `\"King\"`?\n",
    "   \n",
    "   Make sure to use the dataset that contains the float values as the dataset you use in your filtering function."
   ]
  },
  {
   "cell_type": "code",
   "execution_count": 31,
   "metadata": {},
   "outputs": [
    {
     "name": "stdout",
     "output_type": "stream",
     "text": [
      "   show_number    air_date      round                         category value  \\\n",
      "0         4680  2004-12-31  Jeopardy!                          HISTORY   200   \n",
      "1         4680  2004-12-31  Jeopardy!  ESPN's TOP 10 ALL-TIME ATHLETES   200   \n",
      "2         4680  2004-12-31  Jeopardy!      EVERYBODY TALKS ABOUT IT...   200   \n",
      "3         4680  2004-12-31  Jeopardy!                 THE COMPANY LINE   200   \n",
      "4         4680  2004-12-31  Jeopardy!              EPITAPHS & TRIBUTES   200   \n",
      "\n",
      "                                                                                                      question  \\\n",
      "0             for the last 8 years of his life, galileo was under house arrest for espousing this man's theory   \n",
      "1  no. 2: 1912 olympian; football star at carlisle indian school; 6 mlb seasons with the reds, giants & braves   \n",
      "2                     the city of yuma in this state has a record average of 4,055 hours of sunshine each year   \n",
      "3                         in 1963, live on \"the art linkletter show\", this company served its billionth burger   \n",
      "4     signer of the dec. of indep., framer of the constitution of mass., second president of the united states   \n",
      "\n",
      "       answer  value_float  \n",
      "0  Copernicus        200.0  \n",
      "1  Jim Thorpe        200.0  \n",
      "2     Arizona        200.0  \n",
      "3  McDonald's        200.0  \n",
      "4  John Adams        200.0  \n"
     ]
    }
   ],
   "source": [
    "df['value'] = df['value'].str.replace('$', '')\n",
    "df['value'] = df['value'].str.replace(',', '') # Remove commas from the 'value' column\n",
    "df['value_float'] = pd.to_numeric(df['value'], errors='coerce') # coerce transforms non numeric values into Nan\n",
    "print(df.head())\n",
    "\n",
    "\n"
   ]
  },
  {
   "cell_type": "code",
   "execution_count": 33,
   "metadata": {},
   "outputs": [
    {
     "name": "stdout",
     "output_type": "stream",
     "text": [
      "785.668910564638\n"
     ]
    }
   ],
   "source": [
    "df_filtered = filter_word(df, [\"King\"])\n",
    "print(df_filtered.value_float.mean())"
   ]
  },
  {
   "cell_type": "markdown",
   "metadata": {},
   "source": [
    "5. Write a function that returns the count of unique answers to all of the questions in a dataset. For example, after filtering the entire dataset to only questions containing the word `\"King\"`, we could then find all of the unique answers to those questions. The answer \"Henry VIII\" appeared 55 times and was the most common answer."
   ]
  },
  {
   "cell_type": "code",
   "execution_count": 37,
   "metadata": {},
   "outputs": [
    {
     "name": "stdout",
     "output_type": "stream",
     "text": [
      "answer\n",
      "Henry VIII                   55\n",
      "Solomon                      35\n",
      "Richard III                  33\n",
      "Louis XIV                    31\n",
      "David                        30\n",
      "                             ..\n",
      "cardiac (in card I acted)     1\n",
      "Henderson                     1\n",
      "Computer                      1\n",
      "Indians                       1\n",
      "work                          1\n",
      "Name: count, Length: 5268, dtype: int64\n"
     ]
    }
   ],
   "source": [
    "# A function to find the unique answers of a set of data\n",
    "def get_answer_counts(data):\n",
    "    return data.answer.value_counts()\n",
    "\n",
    "# Testing the answer count function\n",
    "print(get_answer_counts(df_filtered))"
   ]
  },
  {
   "cell_type": "markdown",
   "metadata": {},
   "source": [
    "6. Explore from here! This is an incredibly rich dataset, and there are so many interesting things to discover. There are a few columns that we haven't even started looking at yet. Here are some ideas on ways to continue working with this data:\n",
    "\n",
    " * Investigate the ways in which questions change over time by filtering by the date. How many questions from the 90s use the word `\"Computer\"` compared to questions from the 2000s?\n",
    " * Is there a connection between the round and the category? Are you more likely to find certain categories, like `\"Literature\"` in Single Jeopardy or Double Jeopardy?\n",
    " * Build a system to quiz yourself. Grab random questions, and use the <a href=\"https://docs.python.org/3/library/functions.html#input\">input</a> function to get a response from the user. Check to see if that response was right or wrong."
   ]
  },
  {
   "cell_type": "code",
   "execution_count": null,
   "metadata": {},
   "outputs": [],
   "source": []
  },
  {
   "cell_type": "markdown",
   "metadata": {},
   "source": [
    "## Solution"
   ]
  },
  {
   "cell_type": "markdown",
   "metadata": {},
   "source": [
    "7. Compare your program to our <a href=\"https://content.codecademy.com/PRO/independent-practice-projects/jeopardy/jeopardy_solution.zip\">sample solution code</a> - remember, that your program might look different from ours (and probably will) and that's okay!"
   ]
  },
  {
   "cell_type": "markdown",
   "metadata": {},
   "source": [
    "8. Great work! Visit <a href=\"https://discuss.codecademy.com/t/this-is-jeopardy-challenge-project-python-pandas/462365\">our forums</a> to compare your project to our sample solution code. You can also learn how to host your own solution on GitHub so you can share it with other learners! Your solution might look different from ours, and that's okay! There are multiple ways to solve these projects, and you'll learn more by seeing others' code."
   ]
  },
  {
   "cell_type": "code",
   "execution_count": null,
   "metadata": {},
   "outputs": [],
   "source": []
  }
 ],
 "metadata": {
  "kernelspec": {
   "display_name": "Python 3 (ipykernel)",
   "language": "python",
   "name": "python3"
  },
  "language_info": {
   "codemirror_mode": {
    "name": "ipython",
    "version": 3
   },
   "file_extension": ".py",
   "mimetype": "text/x-python",
   "name": "python",
   "nbconvert_exporter": "python",
   "pygments_lexer": "ipython3",
   "version": "3.11.5"
  }
 },
 "nbformat": 4,
 "nbformat_minor": 4
}
